{
 "cells": [
  {
   "cell_type": "markdown",
   "metadata": {},
   "source": [
    "## INTRODUCTION\n",
    "\n",
    "https://colab.research.google.com/drive/1I1OllDt397CFA4CrCO2nAINN5iBge7qZ?authuser=1#scrollTo=B5IlrkHfH2it\n",
    "\n",
    "We work for the oil extraction company OilyGiant. Our task is to identify the best locations for opening 200 new oil wells.\n",
    "\n",
    "___Request___\n",
    "- Build a model to predict the reserve volume in new wells.\n",
    "- Choose the wells with the highest estimated values.\n",
    "- Select the region with the highest total profit from the selected wells.\n",
    "\n",
    "___Special conditions___\n",
    "- The model should only use linear regression for training.\n",
    "- During the exploration of the region, a study of 500 points is conducted, selecting the best 200 points for the profit calculation.\n",
    "- The budget for the development of 200 oil wells is 100 million dollars.\n",
    "- A barrel of raw materials generates 4.5 USD in revenue. The revenue from one unit of product is 4500 dollars (the reserve volume is expressed in thousands of barrels).\n",
    "- After the risk evaluation, keep only the regions with a loss risk of less than 2.5%. Among those that meet the criteria, select the region with the highest average profit.\n"
   ]
  },
  {
   "cell_type": "markdown",
   "metadata": {},
   "source": [
    "## DATA DESCRPITION\n",
    "\n",
    "geo_data_0.csv / geo_data_1.csv / geo_data_2.csv\n",
    "\n",
    "- id: unique identifier for the oil well\n",
    "- f0, f1, f2: three features of the points (the specific meaning is not important, but the features themselves are significant)\n",
    "- product: reserve volume in the oil well (thousands of barrels)."
   ]
  },
  {
   "cell_type": "code",
   "execution_count": 1,
   "metadata": {},
   "outputs": [],
   "source": [
    "import pandas as pd\n",
    "import numpy as np\n",
    "from sklearn.linear_model import LinearRegression     \n",
    "from sklearn.model_selection import train_test_split  \n",
    "from sklearn.preprocessing import StandardScaler      \n",
    "from sklearn.metrics import mean_squared_error        \n",
    "from scipy import stats as stats                      \n",
    "import matplotlib.pyplot as plt                       "
   ]
  },
  {
   "cell_type": "code",
   "execution_count": 2,
   "metadata": {},
   "outputs": [],
   "source": [
    "# Getting Data sets\n",
    "data_region1 = pd.read_csv('geo_data_0.csv')\n",
    "data_region2 = pd.read_csv('geo_data_1.csv')\n",
    "data_region3 = pd.read_csv('geo_data_2.csv')"
   ]
  },
  {
   "cell_type": "markdown",
   "metadata": {},
   "source": [
    "### Region 1"
   ]
  },
  {
   "cell_type": "code",
   "execution_count": 3,
   "metadata": {},
   "outputs": [
    {
     "name": "stdout",
     "output_type": "stream",
     "text": [
      "<class 'pandas.core.frame.DataFrame'>\n",
      "RangeIndex: 100000 entries, 0 to 99999\n",
      "Data columns (total 5 columns):\n",
      " #   Column   Non-Null Count   Dtype  \n",
      "---  ------   --------------   -----  \n",
      " 0   id       100000 non-null  object \n",
      " 1   f0       100000 non-null  float64\n",
      " 2   f1       100000 non-null  float64\n",
      " 3   f2       100000 non-null  float64\n",
      " 4   product  100000 non-null  float64\n",
      "dtypes: float64(4), object(1)\n",
      "memory usage: 3.8+ MB\n"
     ]
    }
   ],
   "source": [
    "data_region1.info()"
   ]
  },
  {
   "cell_type": "code",
   "execution_count": 4,
   "metadata": {},
   "outputs": [
    {
     "data": {
      "text/html": [
       "<div>\n",
       "<style scoped>\n",
       "    .dataframe tbody tr th:only-of-type {\n",
       "        vertical-align: middle;\n",
       "    }\n",
       "\n",
       "    .dataframe tbody tr th {\n",
       "        vertical-align: top;\n",
       "    }\n",
       "\n",
       "    .dataframe thead th {\n",
       "        text-align: right;\n",
       "    }\n",
       "</style>\n",
       "<table border=\"1\" class=\"dataframe\">\n",
       "  <thead>\n",
       "    <tr style=\"text-align: right;\">\n",
       "      <th></th>\n",
       "      <th>id</th>\n",
       "      <th>f0</th>\n",
       "      <th>f1</th>\n",
       "      <th>f2</th>\n",
       "      <th>product</th>\n",
       "    </tr>\n",
       "  </thead>\n",
       "  <tbody>\n",
       "    <tr>\n",
       "      <th>52007</th>\n",
       "      <td>Pwrta</td>\n",
       "      <td>0.198885</td>\n",
       "      <td>1.012560</td>\n",
       "      <td>2.728333</td>\n",
       "      <td>111.334140</td>\n",
       "    </tr>\n",
       "    <tr>\n",
       "      <th>76793</th>\n",
       "      <td>8J5he</td>\n",
       "      <td>1.255089</td>\n",
       "      <td>-0.387520</td>\n",
       "      <td>4.228812</td>\n",
       "      <td>82.462051</td>\n",
       "    </tr>\n",
       "    <tr>\n",
       "      <th>76590</th>\n",
       "      <td>Ko3kc</td>\n",
       "      <td>0.690017</td>\n",
       "      <td>0.747809</td>\n",
       "      <td>2.623526</td>\n",
       "      <td>67.365496</td>\n",
       "    </tr>\n",
       "    <tr>\n",
       "      <th>56892</th>\n",
       "      <td>aFbGx</td>\n",
       "      <td>2.093590</td>\n",
       "      <td>0.303996</td>\n",
       "      <td>5.118731</td>\n",
       "      <td>99.324773</td>\n",
       "    </tr>\n",
       "    <tr>\n",
       "      <th>88167</th>\n",
       "      <td>7oB0t</td>\n",
       "      <td>1.984086</td>\n",
       "      <td>0.319505</td>\n",
       "      <td>3.075140</td>\n",
       "      <td>106.570539</td>\n",
       "    </tr>\n",
       "  </tbody>\n",
       "</table>\n",
       "</div>"
      ],
      "text/plain": [
       "          id        f0        f1        f2     product\n",
       "52007  Pwrta  0.198885  1.012560  2.728333  111.334140\n",
       "76793  8J5he  1.255089 -0.387520  4.228812   82.462051\n",
       "76590  Ko3kc  0.690017  0.747809  2.623526   67.365496\n",
       "56892  aFbGx  2.093590  0.303996  5.118731   99.324773\n",
       "88167  7oB0t  1.984086  0.319505  3.075140  106.570539"
      ]
     },
     "execution_count": 4,
     "metadata": {},
     "output_type": "execute_result"
    }
   ],
   "source": [
    "data_region1.sample(5)"
   ]
  },
  {
   "cell_type": "code",
   "execution_count": 5,
   "metadata": {},
   "outputs": [
    {
     "data": {
      "text/html": [
       "<div>\n",
       "<style scoped>\n",
       "    .dataframe tbody tr th:only-of-type {\n",
       "        vertical-align: middle;\n",
       "    }\n",
       "\n",
       "    .dataframe tbody tr th {\n",
       "        vertical-align: top;\n",
       "    }\n",
       "\n",
       "    .dataframe thead th {\n",
       "        text-align: right;\n",
       "    }\n",
       "</style>\n",
       "<table border=\"1\" class=\"dataframe\">\n",
       "  <thead>\n",
       "    <tr style=\"text-align: right;\">\n",
       "      <th></th>\n",
       "      <th>f0</th>\n",
       "      <th>f1</th>\n",
       "      <th>f2</th>\n",
       "      <th>product</th>\n",
       "    </tr>\n",
       "  </thead>\n",
       "  <tbody>\n",
       "    <tr>\n",
       "      <th>count</th>\n",
       "      <td>100000.000000</td>\n",
       "      <td>100000.000000</td>\n",
       "      <td>100000.000000</td>\n",
       "      <td>100000.000000</td>\n",
       "    </tr>\n",
       "    <tr>\n",
       "      <th>mean</th>\n",
       "      <td>0.500419</td>\n",
       "      <td>0.250143</td>\n",
       "      <td>2.502647</td>\n",
       "      <td>92.500000</td>\n",
       "    </tr>\n",
       "    <tr>\n",
       "      <th>std</th>\n",
       "      <td>0.871832</td>\n",
       "      <td>0.504433</td>\n",
       "      <td>3.248248</td>\n",
       "      <td>44.288691</td>\n",
       "    </tr>\n",
       "    <tr>\n",
       "      <th>min</th>\n",
       "      <td>-1.408605</td>\n",
       "      <td>-0.848218</td>\n",
       "      <td>-12.088328</td>\n",
       "      <td>0.000000</td>\n",
       "    </tr>\n",
       "    <tr>\n",
       "      <th>25%</th>\n",
       "      <td>-0.072580</td>\n",
       "      <td>-0.200881</td>\n",
       "      <td>0.287748</td>\n",
       "      <td>56.497507</td>\n",
       "    </tr>\n",
       "    <tr>\n",
       "      <th>50%</th>\n",
       "      <td>0.502360</td>\n",
       "      <td>0.250252</td>\n",
       "      <td>2.515969</td>\n",
       "      <td>91.849972</td>\n",
       "    </tr>\n",
       "    <tr>\n",
       "      <th>75%</th>\n",
       "      <td>1.073581</td>\n",
       "      <td>0.700646</td>\n",
       "      <td>4.715088</td>\n",
       "      <td>128.564089</td>\n",
       "    </tr>\n",
       "    <tr>\n",
       "      <th>max</th>\n",
       "      <td>2.362331</td>\n",
       "      <td>1.343769</td>\n",
       "      <td>16.003790</td>\n",
       "      <td>185.364347</td>\n",
       "    </tr>\n",
       "  </tbody>\n",
       "</table>\n",
       "</div>"
      ],
      "text/plain": [
       "                  f0             f1             f2        product\n",
       "count  100000.000000  100000.000000  100000.000000  100000.000000\n",
       "mean        0.500419       0.250143       2.502647      92.500000\n",
       "std         0.871832       0.504433       3.248248      44.288691\n",
       "min        -1.408605      -0.848218     -12.088328       0.000000\n",
       "25%        -0.072580      -0.200881       0.287748      56.497507\n",
       "50%         0.502360       0.250252       2.515969      91.849972\n",
       "75%         1.073581       0.700646       4.715088     128.564089\n",
       "max         2.362331       1.343769      16.003790     185.364347"
      ]
     },
     "execution_count": 5,
     "metadata": {},
     "output_type": "execute_result"
    }
   ],
   "source": [
    "data_region1.describe()"
   ]
  },
  {
   "cell_type": "code",
   "execution_count": 6,
   "metadata": {},
   "outputs": [
    {
     "data": {
      "image/png": "[encoded data removed]",
      "text/plain": [
       "<Figure size 1000x600 with 4 Axes>"
      ]
     },
     "metadata": {},
     "output_type": "display_data"
    }
   ],
   "source": [
    "data_region1.hist(figsize=(10, 6))\n",
    "plt.show()"
   ]
  },
  {
   "cell_type": "markdown",
   "metadata": {},
   "source": [
    "Remarks\n",
    "- Regarding the data from region 1, the following can be observed:\n",
    "    - The product column has a normal distribution; however, its variance is high.\n",
    "    - The f0, f1, and f2 columns seem to have a slight positive skew."
   ]
  },
  {
   "cell_type": "markdown",
   "metadata": {},
   "source": [
    "### Region 2"
   ]
  },
  {
   "cell_type": "code",
   "execution_count": 7,
   "metadata": {},
   "outputs": [
    {
     "name": "stdout",
     "output_type": "stream",
     "text": [
      "<class 'pandas.core.frame.DataFrame'>\n",
      "RangeIndex: 100000 entries, 0 to 99999\n",
      "Data columns (total 5 columns):\n",
      " #   Column   Non-Null Count   Dtype  \n",
      "---  ------   --------------   -----  \n",
      " 0   id       100000 non-null  object \n",
      " 1   f0       100000 non-null  float64\n",
      " 2   f1       100000 non-null  float64\n",
      " 3   f2       100000 non-null  float64\n",
      " 4   product  100000 non-null  float64\n",
      "dtypes: float64(4), object(1)\n",
      "memory usage: 3.8+ MB\n"
     ]
    }
   ],
   "source": [
    "data_region2.info()"
   ]
  },
  {
   "cell_type": "code",
   "execution_count": 8,
   "metadata": {},
   "outputs": [
    {
     "data": {
      "text/html": [
       "<div>\n",
       "<style scoped>\n",
       "    .dataframe tbody tr th:only-of-type {\n",
       "        vertical-align: middle;\n",
       "    }\n",
       "\n",
       "    .dataframe tbody tr th {\n",
       "        vertical-align: top;\n",
       "    }\n",
       "\n",
       "    .dataframe thead th {\n",
       "        text-align: right;\n",
       "    }\n",
       "</style>\n",
       "<table border=\"1\" class=\"dataframe\">\n",
       "  <thead>\n",
       "    <tr style=\"text-align: right;\">\n",
       "      <th></th>\n",
       "      <th>id</th>\n",
       "      <th>f0</th>\n",
       "      <th>f1</th>\n",
       "      <th>f2</th>\n",
       "      <th>product</th>\n",
       "    </tr>\n",
       "  </thead>\n",
       "  <tbody>\n",
       "    <tr>\n",
       "      <th>9679</th>\n",
       "      <td>PzLS8</td>\n",
       "      <td>9.928434</td>\n",
       "      <td>-3.307266</td>\n",
       "      <td>4.002927</td>\n",
       "      <td>107.813044</td>\n",
       "    </tr>\n",
       "    <tr>\n",
       "      <th>12951</th>\n",
       "      <td>1w1yx</td>\n",
       "      <td>-3.896321</td>\n",
       "      <td>-10.191984</td>\n",
       "      <td>0.003289</td>\n",
       "      <td>3.179103</td>\n",
       "    </tr>\n",
       "    <tr>\n",
       "      <th>26361</th>\n",
       "      <td>yMmUV</td>\n",
       "      <td>-4.591716</td>\n",
       "      <td>-9.106359</td>\n",
       "      <td>4.002893</td>\n",
       "      <td>110.992147</td>\n",
       "    </tr>\n",
       "    <tr>\n",
       "      <th>43177</th>\n",
       "      <td>ey5EU</td>\n",
       "      <td>-8.777456</td>\n",
       "      <td>3.131253</td>\n",
       "      <td>1.993909</td>\n",
       "      <td>57.085625</td>\n",
       "    </tr>\n",
       "    <tr>\n",
       "      <th>92036</th>\n",
       "      <td>l5VCd</td>\n",
       "      <td>19.102529</td>\n",
       "      <td>-16.453482</td>\n",
       "      <td>4.998141</td>\n",
       "      <td>134.766305</td>\n",
       "    </tr>\n",
       "  </tbody>\n",
       "</table>\n",
       "</div>"
      ],
      "text/plain": [
       "          id         f0         f1        f2     product\n",
       "9679   PzLS8   9.928434  -3.307266  4.002927  107.813044\n",
       "12951  1w1yx  -3.896321 -10.191984  0.003289    3.179103\n",
       "26361  yMmUV  -4.591716  -9.106359  4.002893  110.992147\n",
       "43177  ey5EU  -8.777456   3.131253  1.993909   57.085625\n",
       "92036  l5VCd  19.102529 -16.453482  4.998141  134.766305"
      ]
     },
     "execution_count": 8,
     "metadata": {},
     "output_type": "execute_result"
    }
   ],
   "source": [
    "data_region2.sample(5)"
   ]
  },
  {
   "cell_type": "code",
   "execution_count": 9,
   "metadata": {},
   "outputs": [
    {
     "data": {
      "text/html": [
       "<div>\n",
       "<style scoped>\n",
       "    .dataframe tbody tr th:only-of-type {\n",
       "        vertical-align: middle;\n",
       "    }\n",
       "\n",
       "    .dataframe tbody tr th {\n",
       "        vertical-align: top;\n",
       "    }\n",
       "\n",
       "    .dataframe thead th {\n",
       "        text-align: right;\n",
       "    }\n",
       "</style>\n",
       "<table border=\"1\" class=\"dataframe\">\n",
       "  <thead>\n",
       "    <tr style=\"text-align: right;\">\n",
       "      <th></th>\n",
       "      <th>f0</th>\n",
       "      <th>f1</th>\n",
       "      <th>f2</th>\n",
       "      <th>product</th>\n",
       "    </tr>\n",
       "  </thead>\n",
       "  <tbody>\n",
       "    <tr>\n",
       "      <th>count</th>\n",
       "      <td>100000.000000</td>\n",
       "      <td>100000.000000</td>\n",
       "      <td>100000.000000</td>\n",
       "      <td>100000.000000</td>\n",
       "    </tr>\n",
       "    <tr>\n",
       "      <th>mean</th>\n",
       "      <td>0.500419</td>\n",
       "      <td>0.250143</td>\n",
       "      <td>2.502647</td>\n",
       "      <td>92.500000</td>\n",
       "    </tr>\n",
       "    <tr>\n",
       "      <th>std</th>\n",
       "      <td>0.871832</td>\n",
       "      <td>0.504433</td>\n",
       "      <td>3.248248</td>\n",
       "      <td>44.288691</td>\n",
       "    </tr>\n",
       "    <tr>\n",
       "      <th>min</th>\n",
       "      <td>-1.408605</td>\n",
       "      <td>-0.848218</td>\n",
       "      <td>-12.088328</td>\n",
       "      <td>0.000000</td>\n",
       "    </tr>\n",
       "    <tr>\n",
       "      <th>25%</th>\n",
       "      <td>-0.072580</td>\n",
       "      <td>-0.200881</td>\n",
       "      <td>0.287748</td>\n",
       "      <td>56.497507</td>\n",
       "    </tr>\n",
       "    <tr>\n",
       "      <th>50%</th>\n",
       "      <td>0.502360</td>\n",
       "      <td>0.250252</td>\n",
       "      <td>2.515969</td>\n",
       "      <td>91.849972</td>\n",
       "    </tr>\n",
       "    <tr>\n",
       "      <th>75%</th>\n",
       "      <td>1.073581</td>\n",
       "      <td>0.700646</td>\n",
       "      <td>4.715088</td>\n",
       "      <td>128.564089</td>\n",
       "    </tr>\n",
       "    <tr>\n",
       "      <th>max</th>\n",
       "      <td>2.362331</td>\n",
       "      <td>1.343769</td>\n",
       "      <td>16.003790</td>\n",
       "      <td>185.364347</td>\n",
       "    </tr>\n",
       "  </tbody>\n",
       "</table>\n",
       "</div>"
      ],
      "text/plain": [
       "                  f0             f1             f2        product\n",
       "count  100000.000000  100000.000000  100000.000000  100000.000000\n",
       "mean        0.500419       0.250143       2.502647      92.500000\n",
       "std         0.871832       0.504433       3.248248      44.288691\n",
       "min        -1.408605      -0.848218     -12.088328       0.000000\n",
       "25%        -0.072580      -0.200881       0.287748      56.497507\n",
       "50%         0.502360       0.250252       2.515969      91.849972\n",
       "75%         1.073581       0.700646       4.715088     128.564089\n",
       "max         2.362331       1.343769      16.003790     185.364347"
      ]
     },
     "execution_count": 9,
     "metadata": {},
     "output_type": "execute_result"
    }
   ],
   "source": [
    "data_region1.describe()"
   ]
  },
  {
   "cell_type": "code",
   "execution_count": 10,
   "metadata": {},
   "outputs": [
    {
     "data": {
      "image/png": "[encoded data removed]",
      "text/plain": [
       "<Figure size 1000x600 with 4 Axes>"
      ]
     },
     "metadata": {},
     "output_type": "display_data"
    }
   ],
   "source": [
    "data_region2.hist(figsize=(10, 6))\n",
    "plt.show()"
   ]
  },
  {
   "cell_type": "markdown",
   "metadata": {},
   "source": [
    "Remarks\n",
    "- Regarding the data from region 2, the following can be observed:\n",
    "    - In the product column, we can notice peaks at the minimum and maximum values, while the distribution is very uniform in the center.\n",
    "    - The f0 and f1 columns seem to have a more normal distribution, however, f2 has a more peculiar shape, presenting multiple peaks in different areas."
   ]
  },
  {
   "cell_type": "markdown",
   "metadata": {},
   "source": [
    "### Region 3"
   ]
  },
  {
   "cell_type": "code",
   "execution_count": 11,
   "metadata": {},
   "outputs": [
    {
     "name": "stdout",
     "output_type": "stream",
     "text": [
      "<class 'pandas.core.frame.DataFrame'>\n",
      "RangeIndex: 100000 entries, 0 to 99999\n",
      "Data columns (total 5 columns):\n",
      " #   Column   Non-Null Count   Dtype  \n",
      "---  ------   --------------   -----  \n",
      " 0   id       100000 non-null  object \n",
      " 1   f0       100000 non-null  float64\n",
      " 2   f1       100000 non-null  float64\n",
      " 3   f2       100000 non-null  float64\n",
      " 4   product  100000 non-null  float64\n",
      "dtypes: float64(4), object(1)\n",
      "memory usage: 3.8+ MB\n"
     ]
    }
   ],
   "source": [
    "data_region3.info()"
   ]
  },
  {
   "cell_type": "code",
   "execution_count": 13,
   "metadata": {},
   "outputs": [
    {
     "data": {
      "text/html": [
       "<div>\n",
       "<style scoped>\n",
       "    .dataframe tbody tr th:only-of-type {\n",
       "        vertical-align: middle;\n",
       "    }\n",
       "\n",
       "    .dataframe tbody tr th {\n",
       "        vertical-align: top;\n",
       "    }\n",
       "\n",
       "    .dataframe thead th {\n",
       "        text-align: right;\n",
       "    }\n",
       "</style>\n",
       "<table border=\"1\" class=\"dataframe\">\n",
       "  <thead>\n",
       "    <tr style=\"text-align: right;\">\n",
       "      <th></th>\n",
       "      <th>id</th>\n",
       "      <th>f0</th>\n",
       "      <th>f1</th>\n",
       "      <th>f2</th>\n",
       "      <th>product</th>\n",
       "    </tr>\n",
       "  </thead>\n",
       "  <tbody>\n",
       "    <tr>\n",
       "      <th>89072</th>\n",
       "      <td>Egmom</td>\n",
       "      <td>-1.019680</td>\n",
       "      <td>0.968391</td>\n",
       "      <td>0.145168</td>\n",
       "      <td>33.064969</td>\n",
       "    </tr>\n",
       "    <tr>\n",
       "      <th>25163</th>\n",
       "      <td>mbC8H</td>\n",
       "      <td>-1.655014</td>\n",
       "      <td>-1.855646</td>\n",
       "      <td>3.108749</td>\n",
       "      <td>148.696529</td>\n",
       "    </tr>\n",
       "    <tr>\n",
       "      <th>20706</th>\n",
       "      <td>mqvlI</td>\n",
       "      <td>-0.277897</td>\n",
       "      <td>-0.231145</td>\n",
       "      <td>5.229298</td>\n",
       "      <td>104.222434</td>\n",
       "    </tr>\n",
       "    <tr>\n",
       "      <th>96870</th>\n",
       "      <td>k3yWS</td>\n",
       "      <td>2.265974</td>\n",
       "      <td>3.196473</td>\n",
       "      <td>4.163192</td>\n",
       "      <td>121.045689</td>\n",
       "    </tr>\n",
       "    <tr>\n",
       "      <th>21339</th>\n",
       "      <td>F51N6</td>\n",
       "      <td>-0.824782</td>\n",
       "      <td>0.178299</td>\n",
       "      <td>3.333559</td>\n",
       "      <td>30.634501</td>\n",
       "    </tr>\n",
       "  </tbody>\n",
       "</table>\n",
       "</div>"
      ],
      "text/plain": [
       "          id        f0        f1        f2     product\n",
       "89072  Egmom -1.019680  0.968391  0.145168   33.064969\n",
       "25163  mbC8H -1.655014 -1.855646  3.108749  148.696529\n",
       "20706  mqvlI -0.277897 -0.231145  5.229298  104.222434\n",
       "96870  k3yWS  2.265974  3.196473  4.163192  121.045689\n",
       "21339  F51N6 -0.824782  0.178299  3.333559   30.634501"
      ]
     },
     "execution_count": 13,
     "metadata": {},
     "output_type": "execute_result"
    }
   ],
   "source": [
    "data_region3.sample(5)"
   ]
  },
  {
   "cell_type": "code",
   "execution_count": 14,
   "metadata": {},
   "outputs": [
    {
     "data": {
      "text/html": [
       "<div>\n",
       "<style scoped>\n",
       "    .dataframe tbody tr th:only-of-type {\n",
       "        vertical-align: middle;\n",
       "    }\n",
       "\n",
       "    .dataframe tbody tr th {\n",
       "        vertical-align: top;\n",
       "    }\n",
       "\n",
       "    .dataframe thead th {\n",
       "        text-align: right;\n",
       "    }\n",
       "</style>\n",
       "<table border=\"1\" class=\"dataframe\">\n",
       "  <thead>\n",
       "    <tr style=\"text-align: right;\">\n",
       "      <th></th>\n",
       "      <th>f0</th>\n",
       "      <th>f1</th>\n",
       "      <th>f2</th>\n",
       "      <th>product</th>\n",
       "    </tr>\n",
       "  </thead>\n",
       "  <tbody>\n",
       "    <tr>\n",
       "      <th>count</th>\n",
       "      <td>100000.000000</td>\n",
       "      <td>100000.000000</td>\n",
       "      <td>100000.000000</td>\n",
       "      <td>100000.000000</td>\n",
       "    </tr>\n",
       "    <tr>\n",
       "      <th>mean</th>\n",
       "      <td>0.500419</td>\n",
       "      <td>0.250143</td>\n",
       "      <td>2.502647</td>\n",
       "      <td>92.500000</td>\n",
       "    </tr>\n",
       "    <tr>\n",
       "      <th>std</th>\n",
       "      <td>0.871832</td>\n",
       "      <td>0.504433</td>\n",
       "      <td>3.248248</td>\n",
       "      <td>44.288691</td>\n",
       "    </tr>\n",
       "    <tr>\n",
       "      <th>min</th>\n",
       "      <td>-1.408605</td>\n",
       "      <td>-0.848218</td>\n",
       "      <td>-12.088328</td>\n",
       "      <td>0.000000</td>\n",
       "    </tr>\n",
       "    <tr>\n",
       "      <th>25%</th>\n",
       "      <td>-0.072580</td>\n",
       "      <td>-0.200881</td>\n",
       "      <td>0.287748</td>\n",
       "      <td>56.497507</td>\n",
       "    </tr>\n",
       "    <tr>\n",
       "      <th>50%</th>\n",
       "      <td>0.502360</td>\n",
       "      <td>0.250252</td>\n",
       "      <td>2.515969</td>\n",
       "      <td>91.849972</td>\n",
       "    </tr>\n",
       "    <tr>\n",
       "      <th>75%</th>\n",
       "      <td>1.073581</td>\n",
       "      <td>0.700646</td>\n",
       "      <td>4.715088</td>\n",
       "      <td>128.564089</td>\n",
       "    </tr>\n",
       "    <tr>\n",
       "      <th>max</th>\n",
       "      <td>2.362331</td>\n",
       "      <td>1.343769</td>\n",
       "      <td>16.003790</td>\n",
       "      <td>185.364347</td>\n",
       "    </tr>\n",
       "  </tbody>\n",
       "</table>\n",
       "</div>"
      ],
      "text/plain": [
       "                  f0             f1             f2        product\n",
       "count  100000.000000  100000.000000  100000.000000  100000.000000\n",
       "mean        0.500419       0.250143       2.502647      92.500000\n",
       "std         0.871832       0.504433       3.248248      44.288691\n",
       "min        -1.408605      -0.848218     -12.088328       0.000000\n",
       "25%        -0.072580      -0.200881       0.287748      56.497507\n",
       "50%         0.502360       0.250252       2.515969      91.849972\n",
       "75%         1.073581       0.700646       4.715088     128.564089\n",
       "max         2.362331       1.343769      16.003790     185.364347"
      ]
     },
     "execution_count": 14,
     "metadata": {},
     "output_type": "execute_result"
    }
   ],
   "source": [
    "data_region1.describe()"
   ]
  },
  {
   "cell_type": "code",
   "execution_count": 15,
   "metadata": {},
   "outputs": [
    {
     "data": {
      "image/png": "[encoded data removed]",
      "text/plain": [
       "<Figure size 1000x600 with 4 Axes>"
      ]
     },
     "metadata": {},
     "output_type": "display_data"
    }
   ],
   "source": [
    "data_region3.hist(figsize=(10, 6)) \n",
    "plt.show()"
   ]
  },
  {
   "cell_type": "markdown",
   "metadata": {},
   "source": [
    "Remarks\n",
    "- Regarding the data from region 3, the following can be observed:\n",
    "    - The four columns f0, f1, f2, and product follow a more normal distribution, although in the case of product, its variance is somewhat high again."
   ]
  },
  {
   "cell_type": "markdown",
   "metadata": {},
   "source": [
    "General conclusions prior to data preparation:\n",
    "- The three dataframes do not require any adjustments or cleaning; however, we will remove the id column as it does not provide any value for the model."
   ]
  },
  {
   "cell_type": "markdown",
   "metadata": {},
   "source": [
    "## PRE-PROCESSING"
   ]
  },
  {
   "cell_type": "code",
   "execution_count": 16,
   "metadata": {},
   "outputs": [],
   "source": [
    "data_region1 = data_region1.drop(columns='id')\n",
    "data_region2 = data_region2.drop(columns='id')\n",
    "data_region3 = data_region3.drop(columns='id')"
   ]
  },
  {
   "cell_type": "markdown",
   "metadata": {},
   "source": [
    "## TRAINING MODELS"
   ]
  },
  {
   "cell_type": "markdown",
   "metadata": {},
   "source": [
    "### Region 1"
   ]
  },
  {
   "cell_type": "code",
   "execution_count": 18,
   "metadata": {},
   "outputs": [],
   "source": [
    "# Creating a Funtion\n",
    "\n",
    "def split_75_25(df, target:str):\n",
    "    \n",
    "    # Getting features and target\n",
    "    f = df.drop(target,axis = 1)\n",
    "    t = df[target]\n",
    "    \n",
    "    # Standarizing values (Fom 0 to 1)\n",
    "    scaler = StandardScaler()\n",
    "    f = scaler.fit_transform(f)\n",
    "\n",
    "    # Splitting data\n",
    "    ft, fv, tt, tv = train_test_split(f,t, test_size=0.25, random_state=1996)\n",
    "    \n",
    "    # Training model\n",
    "    model = LinearRegression()\n",
    "    model.fit(ft, tt)\n",
    "    \n",
    "    pv = model.predict(fv) \n",
    "    rmse = mean_squared_error(tv, pv)**0.5 \n",
    "    pv_mean = round(pv.mean(),2)\n",
    "    \n",
    "    return pv, rmse, pv_mean, tv"
   ]
  },
  {
   "cell_type": "code",
   "execution_count": null,
   "metadata": {},
   "outputs": [
    {
     "name": "stdout",
     "output_type": "stream",
     "text": [
      "Average reserve volume prediction: 92.54\n",
      "RSME: 37.82062583255158\n"
     ]
    }
   ],
   "source": [
    "# Getting Model\n",
    "pvalid1, rmse1, pv_mean1, tvalid1 = split_75_25(data_region1,'product')\n",
    "print(f\"Average reserve volume prediction: {pv_mean1} (thousands of barrels)\")\n",
    "print(f\"RSME: {rmse1}\")"
   ]
  },
  {
   "cell_type": "markdown",
   "metadata": {},
   "source": [
    "### Region 2"
   ]
  },
  {
   "cell_type": "code",
   "execution_count": 22,
   "metadata": {},
   "outputs": [
    {
     "name": "stdout",
     "output_type": "stream",
     "text": [
      "Average reserve volume prediction: 68.22\n",
      "RSME: 0.8881133566905981\n"
     ]
    }
   ],
   "source": [
    "pvalid2, rmse2, pv_mean2, tvalid2 = split_75_25(data_region2,'product')\n",
    "print(f\"Average reserve volume prediction: {pv_mean2} (thousands of barrels)\")\n",
    "print(f\"RSME: {rmse2}\")"
   ]
  },
  {
   "cell_type": "markdown",
   "metadata": {},
   "source": [
    "### Region 3"
   ]
  },
  {
   "cell_type": "code",
   "execution_count": 24,
   "metadata": {},
   "outputs": [
    {
     "name": "stdout",
     "output_type": "stream",
     "text": [
      "Average reserve volume prediction: 95.24 (thousands of barrels)\n",
      "RSME: 39.893676409558154\n"
     ]
    }
   ],
   "source": [
    "pvalid3, rmse3, pv_mean3, tvalid3 = split_75_25(data_region3,'product')\n",
    "print(f\"Average reserve volume prediction: {pv_mean3} (thousands of barrels)\")\n",
    "print(f\"RSME: {rmse3}\")"
   ]
  },
  {
   "cell_type": "code",
   "execution_count": 27,
   "metadata": {},
   "outputs": [
    {
     "data": {
      "text/html": [
       "<div>\n",
       "<style scoped>\n",
       "    .dataframe tbody tr th:only-of-type {\n",
       "        vertical-align: middle;\n",
       "    }\n",
       "\n",
       "    .dataframe tbody tr th {\n",
       "        vertical-align: top;\n",
       "    }\n",
       "\n",
       "    .dataframe thead th {\n",
       "        text-align: right;\n",
       "    }\n",
       "</style>\n",
       "<table border=\"1\" class=\"dataframe\">\n",
       "  <thead>\n",
       "    <tr style=\"text-align: right;\">\n",
       "      <th></th>\n",
       "      <th>rmse</th>\n",
       "      <th>mean_volumne</th>\n",
       "      <th>lower_limit</th>\n",
       "      <th>upper_limit</th>\n",
       "    </tr>\n",
       "  </thead>\n",
       "  <tbody>\n",
       "    <tr>\n",
       "      <th>Region1</th>\n",
       "      <td>37.820626</td>\n",
       "      <td>92.54</td>\n",
       "      <td>54.719374</td>\n",
       "      <td>130.360626</td>\n",
       "    </tr>\n",
       "    <tr>\n",
       "      <th>Region2</th>\n",
       "      <td>0.888113</td>\n",
       "      <td>68.22</td>\n",
       "      <td>67.331887</td>\n",
       "      <td>69.108113</td>\n",
       "    </tr>\n",
       "    <tr>\n",
       "      <th>Region3</th>\n",
       "      <td>39.893676</td>\n",
       "      <td>95.24</td>\n",
       "      <td>55.346324</td>\n",
       "      <td>135.133676</td>\n",
       "    </tr>\n",
       "  </tbody>\n",
       "</table>\n",
       "</div>"
      ],
      "text/plain": [
       "              rmse  mean_volumne  lower_limit  upper_limit\n",
       "Region1  37.820626         92.54    54.719374   130.360626\n",
       "Region2   0.888113         68.22    67.331887    69.108113\n",
       "Region3  39.893676         95.24    55.346324   135.133676"
      ]
     },
     "execution_count": 27,
     "metadata": {},
     "output_type": "execute_result"
    }
   ],
   "source": [
    "# Creating a DF with the results\n",
    "index = ['Region1','Region2','Region3']\n",
    "rmse = np.array([rmse1,rmse2,rmse3])\n",
    "mean = np.array([pv_mean1,pv_mean2,pv_mean3])\n",
    "limite_inf = mean - rmse\n",
    "limite_sup = mean + rmse\n",
    "comparativas = pd.DataFrame({'rmse':rmse,\n",
    "                             'mean_volumne':mean,''\n",
    "                             'lower_limit':limite_inf,\n",
    "                             'upper_limit':limite_sup}\n",
    "                            ,index = index)\n",
    "comparativas"
   ]
  },
  {
   "cell_type": "markdown",
   "metadata": {},
   "source": [
    "Remarks\n",
    "\n",
    "- Regarding the mean predicted volume in the 3 regions, regions 1 and 3 seem to have a higher probability of meeting the 200 well requirement, although they have a higher mean squared error compared to region 2. It will need to be determined through a calculation whether this statement is correct.\n",
    "- It will also be necessary to evaluate if there are 200 available wells in each region to meet the requirement of generating 100 million USD in profit."
   ]
  },
  {
   "cell_type": "markdown",
   "metadata": {},
   "source": [
    "## PROFIT CALCULATIONS"
   ]
  },
  {
   "cell_type": "code",
   "execution_count": 35,
   "metadata": {},
   "outputs": [],
   "source": [
    "# Creating a function\n",
    "def revenue(target,predictions,count):\n",
    "    \n",
    "    points = 500             #Study Points in the Variable\n",
    "    best_points = 200\n",
    "    budget_200 = 100000000   #Total budget for the  200 barrels\n",
    "    revenue_per_unit = 4500  #Profit per unit\n",
    "    revenue_per_barril = 4.5 #Profit per barrel    \n",
    "\n",
    "    # Sorting the prediction values in descending order. (Higher to Lower Volumnes)\n",
    "    p_sorted = pd.Series(predictions).sort_values(ascending=False)\n",
    "\n",
    "    # Getting the top n = count real values using the predictions\n",
    "    top_n = target.reset_index(drop=True).iloc[p_sorted.index][:count]\n",
    "    \n",
    "    # Getting the total volumen of real values (target)\n",
    "    total_volume = top_n.sum()\n",
    "\n",
    "    # Calculating the total income [Volume * Price per unit]\n",
    "    income = total_volume * revenue_per_unit\n",
    "    \n",
    "    # Calculating the cost of developing n wells, taking into account the construction cost.\n",
    "    cost_per_well = (count * budget_200)  / best_points\n",
    "    \n",
    "    return round(income - cost_per_well, 2)"
   ]
  },
  {
   "cell_type": "code",
   "execution_count": 36,
   "metadata": {},
   "outputs": [
    {
     "name": "stdout",
     "output_type": "stream",
     "text": [
      "Total income - region 1: 32713996.92\n",
      "\n",
      "Total income - region 2: 24150866.97\n",
      "\n",
      "Total income - region 3: 22367671.34\n"
     ]
    }
   ],
   "source": [
    "# Region 1\n",
    "total1 = revenue(tvalid1,pvalid1,200)\n",
    "print(f'Total income - region 1: {total1}\\n')\n",
    "\n",
    "# Region 2\n",
    "total2 = revenue(tvalid2,pvalid2,200)\n",
    "print(f'Total income - region 2: {total2}\\n')\n",
    "\n",
    "# Region 3\n",
    "total3 = revenue(tvalid3,pvalid3,200)\n",
    "print(f'Total income - region 3: {total3}')"
   ]
  },
  {
   "cell_type": "markdown",
   "metadata": {},
   "source": [
    "Remarks\n",
    "- Taking into account the predictions of the top 200, region 1 has the best potential income according to the predictions. Considering the RMSE and the average volume, it has shown better results in the top 200 compared to regions 2 and 3. It is important to note that, so far, all regions have a positive profit exceeding the investment amount."
   ]
  },
  {
   "cell_type": "markdown",
   "metadata": {},
   "source": [
    "## RISK AND PROFIT CALCULATIONS"
   ]
  },
  {
   "cell_type": "code",
   "execution_count": 38,
   "metadata": {},
   "outputs": [],
   "source": [
    "# Creating function\n",
    "\n",
    "def bstrapping_c_interval(target,predictions):\n",
    "    target = target.reset_index(drop=True) \n",
    "    state = np.random.RandomState(1996)\n",
    "\n",
    "    values = []\n",
    "    for i in range(1000):   \n",
    "        t_subsample = target.sample(n=500, replace=True, random_state=state)\n",
    "        p_subsample = predictions[t_subsample.index]\n",
    "        values.append(revenue(t_subsample, p_subsample, 200))\n",
    "\n",
    "    values = pd.Series(values)\n",
    "\n",
    "    # Getting the quantiles\n",
    "    lower = values.quantile(0.025)  \n",
    "    upper = values.quantile(0.975)\n",
    "    c_interval = [lower,upper]\n",
    "\n",
    "    # Getting the average profit after bootstrapping.\n",
    "    mean = values.mean()\n",
    "\n",
    "    # Calculating the risk of loss\n",
    "    n_values = values[values <0].count()\n",
    "    p_values = values[values >0].count()\n",
    "    loss_pct = (n_values / p_values) *100\n",
    "    \n",
    "    return values, mean, c_interval, loss_pct"
   ]
  },
  {
   "cell_type": "markdown",
   "metadata": {},
   "source": [
    "### Region 1"
   ]
  },
  {
   "cell_type": "code",
   "execution_count": 39,
   "metadata": {},
   "outputs": [
    {
     "name": "stdout",
     "output_type": "stream",
     "text": [
      "\n",
      "    << Data obtained from Region 1 >>\n",
      "    Revenue: 3941587.05\n",
      "    Lower confidence interval 95%: -917654.4\n",
      "    Upper confidence interval 95%: 8861304.96\n",
      "    Loss risk: 5.71%\n",
      "\n"
     ]
    }
   ],
   "source": [
    "revenues_1, mean_revenue_1, c_interval_1, loss_risk_1 = bstrapping_c_interval(tvalid1,pvalid1)\n",
    "print(f\"\"\"\n",
    "    << Data obtained from Region 1 >>\n",
    "    Revenue: {round(mean_revenue_1,2)}\n",
    "    Lower confidence interval 95%: {round(c_interval_1[0],2)}\n",
    "    Upper confidence interval 95%: {round(c_interval_1[1],2)}\n",
    "    Loss risk: {round(loss_risk_1,2)}%\n",
    "\"\"\")"
   ]
  },
  {
   "cell_type": "markdown",
   "metadata": {},
   "source": [
    "### Region 2"
   ]
  },
  {
   "cell_type": "code",
   "execution_count": 40,
   "metadata": {},
   "outputs": [
    {
     "name": "stdout",
     "output_type": "stream",
     "text": [
      "\n",
      "    << Data obtained from Region 2 >>\n",
      "    Revenue: 3924003.08\n",
      "    Lower confidence interval 95%: -98266.69\n",
      "    Upper confidence interval 95%: 7927657.69\n",
      "    Loss risk: 2.88%\n",
      "\n"
     ]
    }
   ],
   "source": [
    "revenues_2, mean_revenue_2, c_interval_2, loss_risk_2 = bstrapping_c_interval(tvalid2,pvalid2)\n",
    "print(f\"\"\"\n",
    "    << Data obtained from Region 2 >>\n",
    "    Revenue: {round(mean_revenue_2,2)}\n",
    "    Lower confidence interval 95%: {round(c_interval_2[0],2)}\n",
    "    Upper confidence interval 95%: {round(c_interval_2[1],2)}\n",
    "    Loss risk: {round(loss_risk_2,2)}%\n",
    "\"\"\")    "
   ]
  },
  {
   "cell_type": "markdown",
   "metadata": {},
   "source": [
    "### Region 3"
   ]
  },
  {
   "cell_type": "code",
   "execution_count": 41,
   "metadata": {},
   "outputs": [
    {
     "name": "stdout",
     "output_type": "stream",
     "text": [
      "\n",
      "    << Data obtained from Region 3 >>\n",
      "    Revenue: 3423171.08\n",
      "    Lower confidence interval 95%: -1970051.55\n",
      "    Upper confidence interval 95%: 8637090.93\n",
      "    Loss risk: 11.86%\n",
      "\n"
     ]
    }
   ],
   "source": [
    "revenues_3, mean_revenue_3, c_interval_3, loss_risk_3 = bstrapping_c_interval(tvalid3,pvalid3)\n",
    "print(f\"\"\"\n",
    "    << Data obtained from Region 3 >>\n",
    "    Revenue: {round(mean_revenue_3,2)}\n",
    "    Lower confidence interval 95%: {round(c_interval_3[0],2)}\n",
    "    Upper confidence interval 95%: {round(c_interval_3[1],2)}\n",
    "    Loss risk: {round(loss_risk_3,2)}%\n",
    "\"\"\")   "
   ]
  },
  {
   "cell_type": "markdown",
   "metadata": {},
   "source": [
    "## FINAL CONCLUTION"
   ]
  },
  {
   "cell_type": "markdown",
   "metadata": {},
   "source": [
    "Once the bootstrapping method was performed, we can determine that region 2 is the region with the highest probability of generating income and experiencing the least amount of losses, despite initially appearing to be the least favorable. This contrasts with the results obtained before bootstrapping, where region 1 or 3 seemed more promising. In this case, they show a higher percentage of risk but with better benefits."
   ]
  }
 ],
 "metadata": {
  "kernelspec": {
   "display_name": "Python 3",
   "language": "python",
   "name": "python3"
  },
  "language_info": {
   "codemirror_mode": {
    "name": "ipython",
    "version": 3
   },
   "file_extension": ".py",
   "mimetype": "text/x-python",
   "name": "python",
   "nbconvert_exporter": "python",
   "pygments_lexer": "ipython3",
   "version": "3.11.9"
  }
 },
 "nbformat": 4,
 "nbformat_minor": 2
}
